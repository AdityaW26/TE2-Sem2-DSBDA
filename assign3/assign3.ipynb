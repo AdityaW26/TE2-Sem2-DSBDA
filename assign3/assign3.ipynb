{
 "cells": [
  {
   "cell_type": "code",
   "execution_count": 11,
   "id": "4c1e88de",
   "metadata": {},
   "outputs": [
    {
     "data": {
      "text/html": [
       "<div>\n",
       "<style scoped>\n",
       "    .dataframe tbody tr th:only-of-type {\n",
       "        vertical-align: middle;\n",
       "    }\n",
       "\n",
       "    .dataframe tbody tr th {\n",
       "        vertical-align: top;\n",
       "    }\n",
       "\n",
       "    .dataframe thead th {\n",
       "        text-align: right;\n",
       "    }\n",
       "</style>\n",
       "<table border=\"1\" class=\"dataframe\">\n",
       "  <thead>\n",
       "    <tr style=\"text-align: right;\">\n",
       "      <th></th>\n",
       "      <th>Name</th>\n",
       "      <th>Team</th>\n",
       "      <th>Number</th>\n",
       "      <th>Position</th>\n",
       "      <th>Age</th>\n",
       "      <th>Height</th>\n",
       "      <th>Weight</th>\n",
       "      <th>College</th>\n",
       "      <th>Salary</th>\n",
       "    </tr>\n",
       "  </thead>\n",
       "  <tbody>\n",
       "    <tr>\n",
       "      <th>0</th>\n",
       "      <td>Avery Bradley</td>\n",
       "      <td>Boston Celtics</td>\n",
       "      <td>0.0</td>\n",
       "      <td>PG</td>\n",
       "      <td>25.0</td>\n",
       "      <td>6-2</td>\n",
       "      <td>180.0</td>\n",
       "      <td>Texas</td>\n",
       "      <td>7730337.0</td>\n",
       "    </tr>\n",
       "    <tr>\n",
       "      <th>1</th>\n",
       "      <td>Jae Crowder</td>\n",
       "      <td>Boston Celtics</td>\n",
       "      <td>99.0</td>\n",
       "      <td>SF</td>\n",
       "      <td>25.0</td>\n",
       "      <td>6-6</td>\n",
       "      <td>235.0</td>\n",
       "      <td>Marquette</td>\n",
       "      <td>6796117.0</td>\n",
       "    </tr>\n",
       "    <tr>\n",
       "      <th>2</th>\n",
       "      <td>John Holland</td>\n",
       "      <td>Boston Celtics</td>\n",
       "      <td>30.0</td>\n",
       "      <td>SG</td>\n",
       "      <td>27.0</td>\n",
       "      <td>6-5</td>\n",
       "      <td>205.0</td>\n",
       "      <td>Boston University</td>\n",
       "      <td>NaN</td>\n",
       "    </tr>\n",
       "    <tr>\n",
       "      <th>3</th>\n",
       "      <td>R.J. Hunter</td>\n",
       "      <td>Boston Celtics</td>\n",
       "      <td>28.0</td>\n",
       "      <td>SG</td>\n",
       "      <td>22.0</td>\n",
       "      <td>6-5</td>\n",
       "      <td>185.0</td>\n",
       "      <td>Georgia State</td>\n",
       "      <td>1148640.0</td>\n",
       "    </tr>\n",
       "    <tr>\n",
       "      <th>4</th>\n",
       "      <td>Jonas Jerebko</td>\n",
       "      <td>Boston Celtics</td>\n",
       "      <td>8.0</td>\n",
       "      <td>PF</td>\n",
       "      <td>29.0</td>\n",
       "      <td>6-10</td>\n",
       "      <td>231.0</td>\n",
       "      <td>NaN</td>\n",
       "      <td>5000000.0</td>\n",
       "    </tr>\n",
       "  </tbody>\n",
       "</table>\n",
       "</div>"
      ],
      "text/plain": [
       "            Name            Team  Number Position   Age Height  Weight  \\\n",
       "0  Avery Bradley  Boston Celtics     0.0       PG  25.0    6-2   180.0   \n",
       "1    Jae Crowder  Boston Celtics    99.0       SF  25.0    6-6   235.0   \n",
       "2   John Holland  Boston Celtics    30.0       SG  27.0    6-5   205.0   \n",
       "3    R.J. Hunter  Boston Celtics    28.0       SG  22.0    6-5   185.0   \n",
       "4  Jonas Jerebko  Boston Celtics     8.0       PF  29.0   6-10   231.0   \n",
       "\n",
       "             College     Salary  \n",
       "0              Texas  7730337.0  \n",
       "1          Marquette  6796117.0  \n",
       "2  Boston University        NaN  \n",
       "3      Georgia State  1148640.0  \n",
       "4                NaN  5000000.0  "
      ]
     },
     "execution_count": 11,
     "metadata": {},
     "output_type": "execute_result"
    }
   ],
   "source": [
    "# Part 1\n",
    "import pandas as pd\n",
    "import matplotlib.pyplot as plt\n",
    "df = pd.read_csv(\"nba.csv\")\n",
    "df.head()"
   ]
  },
  {
   "cell_type": "code",
   "execution_count": 2,
   "id": "c914734c",
   "metadata": {},
   "outputs": [
    {
     "data": {
      "text/html": [
       "<div>\n",
       "<style scoped>\n",
       "    .dataframe tbody tr th:only-of-type {\n",
       "        vertical-align: middle;\n",
       "    }\n",
       "\n",
       "    .dataframe tbody tr th {\n",
       "        vertical-align: top;\n",
       "    }\n",
       "\n",
       "    .dataframe thead th {\n",
       "        text-align: right;\n",
       "    }\n",
       "</style>\n",
       "<table border=\"1\" class=\"dataframe\">\n",
       "  <thead>\n",
       "    <tr style=\"text-align: right;\">\n",
       "      <th></th>\n",
       "      <th>Number</th>\n",
       "      <th>Age</th>\n",
       "      <th>Weight</th>\n",
       "      <th>Salary</th>\n",
       "    </tr>\n",
       "  </thead>\n",
       "  <tbody>\n",
       "    <tr>\n",
       "      <th>count</th>\n",
       "      <td>457.000000</td>\n",
       "      <td>457.000000</td>\n",
       "      <td>457.000000</td>\n",
       "      <td>4.460000e+02</td>\n",
       "    </tr>\n",
       "    <tr>\n",
       "      <th>mean</th>\n",
       "      <td>17.678337</td>\n",
       "      <td>26.938731</td>\n",
       "      <td>221.522976</td>\n",
       "      <td>4.842684e+06</td>\n",
       "    </tr>\n",
       "    <tr>\n",
       "      <th>std</th>\n",
       "      <td>15.966090</td>\n",
       "      <td>4.404016</td>\n",
       "      <td>26.368343</td>\n",
       "      <td>5.229238e+06</td>\n",
       "    </tr>\n",
       "    <tr>\n",
       "      <th>min</th>\n",
       "      <td>0.000000</td>\n",
       "      <td>19.000000</td>\n",
       "      <td>161.000000</td>\n",
       "      <td>3.088800e+04</td>\n",
       "    </tr>\n",
       "    <tr>\n",
       "      <th>25%</th>\n",
       "      <td>5.000000</td>\n",
       "      <td>24.000000</td>\n",
       "      <td>200.000000</td>\n",
       "      <td>1.044792e+06</td>\n",
       "    </tr>\n",
       "    <tr>\n",
       "      <th>50%</th>\n",
       "      <td>13.000000</td>\n",
       "      <td>26.000000</td>\n",
       "      <td>220.000000</td>\n",
       "      <td>2.839073e+06</td>\n",
       "    </tr>\n",
       "    <tr>\n",
       "      <th>75%</th>\n",
       "      <td>25.000000</td>\n",
       "      <td>30.000000</td>\n",
       "      <td>240.000000</td>\n",
       "      <td>6.500000e+06</td>\n",
       "    </tr>\n",
       "    <tr>\n",
       "      <th>max</th>\n",
       "      <td>99.000000</td>\n",
       "      <td>40.000000</td>\n",
       "      <td>307.000000</td>\n",
       "      <td>2.500000e+07</td>\n",
       "    </tr>\n",
       "  </tbody>\n",
       "</table>\n",
       "</div>"
      ],
      "text/plain": [
       "           Number         Age      Weight        Salary\n",
       "count  457.000000  457.000000  457.000000  4.460000e+02\n",
       "mean    17.678337   26.938731  221.522976  4.842684e+06\n",
       "std     15.966090    4.404016   26.368343  5.229238e+06\n",
       "min      0.000000   19.000000  161.000000  3.088800e+04\n",
       "25%      5.000000   24.000000  200.000000  1.044792e+06\n",
       "50%     13.000000   26.000000  220.000000  2.839073e+06\n",
       "75%     25.000000   30.000000  240.000000  6.500000e+06\n",
       "max     99.000000   40.000000  307.000000  2.500000e+07"
      ]
     },
     "execution_count": 2,
     "metadata": {},
     "output_type": "execute_result"
    }
   ],
   "source": [
    "df.describe()"
   ]
  },
  {
   "cell_type": "code",
   "execution_count": 4,
   "id": "7efe3630",
   "metadata": {},
   "outputs": [
    {
     "data": {
      "text/plain": [
       "Name         object\n",
       "Team         object\n",
       "Number      float64\n",
       "Position     object\n",
       "Age         float64\n",
       "Height       object\n",
       "Weight      float64\n",
       "College      object\n",
       "Salary      float64\n",
       "dtype: object"
      ]
     },
     "execution_count": 4,
     "metadata": {},
     "output_type": "execute_result"
    }
   ],
   "source": [
    "df.dtypes"
   ]
  },
  {
   "cell_type": "code",
   "execution_count": 5,
   "id": "72d767bf",
   "metadata": {},
   "outputs": [
    {
     "data": {
      "text/plain": [
       "Name         1\n",
       "Team         1\n",
       "Number       1\n",
       "Position     1\n",
       "Age          1\n",
       "Height       1\n",
       "Weight       1\n",
       "College     85\n",
       "Salary      12\n",
       "dtype: int64"
      ]
     },
     "execution_count": 5,
     "metadata": {},
     "output_type": "execute_result"
    }
   ],
   "source": [
    "df.isnull().sum()"
   ]
  },
  {
   "cell_type": "code",
   "execution_count": 6,
   "id": "d2abb58b",
   "metadata": {},
   "outputs": [
    {
     "name": "stdout",
     "output_type": "stream",
     "text": [
      "<class 'pandas.core.frame.DataFrame'>\n",
      "RangeIndex: 458 entries, 0 to 457\n",
      "Data columns (total 9 columns):\n",
      " #   Column    Non-Null Count  Dtype  \n",
      "---  ------    --------------  -----  \n",
      " 0   Name      457 non-null    object \n",
      " 1   Team      457 non-null    object \n",
      " 2   Number    457 non-null    float64\n",
      " 3   Position  457 non-null    object \n",
      " 4   Age       457 non-null    float64\n",
      " 5   Height    457 non-null    object \n",
      " 6   Weight    457 non-null    float64\n",
      " 7   College   373 non-null    object \n",
      " 8   Salary    446 non-null    float64\n",
      "dtypes: float64(4), object(5)\n",
      "memory usage: 32.3+ KB\n"
     ]
    }
   ],
   "source": [
    "df.info()"
   ]
  },
  {
   "cell_type": "code",
   "execution_count": 7,
   "id": "e952e413",
   "metadata": {},
   "outputs": [
    {
     "data": {
      "text/plain": [
       "(458, 9)"
      ]
     },
     "execution_count": 7,
     "metadata": {},
     "output_type": "execute_result"
    }
   ],
   "source": [
    "df.shape"
   ]
  },
  {
   "cell_type": "code",
   "execution_count": 8,
   "id": "404ee020",
   "metadata": {},
   "outputs": [],
   "source": [
    "# replace null values with means for numerical columns\n",
    "df['Number'].fillna(value=df['Number'].mean(),inplace=True) # replacing null values with mean of the column\n",
    "df['Age'].fillna(value=df['Age'].mean(),inplace=True) # replacing null values with mean of the column\n",
    "df['Weight'].fillna(value=df['Weight'].mean(),inplace=True) # replacing null values with mean of the column\n",
    "df['Salary'].fillna(value=df['Salary'].mean(),inplace=True) # replacing null values with mean of the column"
   ]
  },
  {
   "cell_type": "code",
   "execution_count": 9,
   "id": "1ff52075",
   "metadata": {},
   "outputs": [
    {
     "name": "stdout",
     "output_type": "stream",
     "text": [
      "Null values of Number col - 0\n",
      "Null values of Age col - 0\n",
      "Null values of Weight col - 0\n",
      "Null values of Salary col - 0\n"
     ]
    }
   ],
   "source": [
    "# check\n",
    "print(\"Null values of Number col - \" + str(df['Number'].isnull().sum()))\n",
    "print(\"Null values of Age col - \" + str(df['Age'].isnull().sum()))\n",
    "print(\"Null values of Weight col - \" + str(df['Weight'].isnull().sum()))\n",
    "print(\"Null values of Salary col - \" + str(df['Salary'].isnull().sum()))"
   ]
  },
  {
   "cell_type": "code",
   "execution_count": 14,
   "id": "fa085696",
   "metadata": {},
   "outputs": [
    {
     "name": "stdout",
     "output_type": "stream",
     "text": [
      "Mean - 17.678336980306344\n",
      "Median - 13.0\n",
      "Mode - 0    5.0\n",
      "dtype: float64\n",
      "Max - 99.0\n",
      "Min - 0.0\n",
      "Standard deviation - 15.966090405679639\n"
     ]
    },
    {
     "data": {
      "image/png": "[encoded data removed]",
      "text/plain": [
       "<Figure size 432x288 with 1 Axes>"
      ]
     },
     "metadata": {
      "needs_background": "light"
     },
     "output_type": "display_data"
    }
   ],
   "source": [
    "#display mean, median, mode, max, min, standard deviation of Number col\n",
    "print(\"Mean - \" + str(df['Number'].mean()))\n",
    "print(\"Median - \" + str(df['Number'].median()))\n",
    "print(\"Mode - \" + str(df['Number'].mode()))\n",
    "print(\"Max - \" + str(df['Number'].max()))\n",
    "print(\"Min - \" + str(df['Number'].min()))\n",
    "print(\"Standard deviation - \" + str(df['Number'].std()))\n",
    "\n",
    "x=df['Number']\n",
    "plt.plot(x, alpha=0.3)\n",
    "plt.axhline(y = df['Number'].mean(), color = 'r', linestyle = '-', label=\"Mean\")\n",
    "plt.axhline(y = df['Number'].median(), color = 'g', linestyle = '--', label=\"Median\")\n",
    "plt.legend(bbox_to_anchor = (1.0, 1), loc = 'upper center')\n",
    "plt.xlabel('Sr no')\n",
    "plt.ylabel('Number')\n",
    "plt.show()"
   ]
  },
  {
   "cell_type": "code",
   "execution_count": 15,
   "id": "8bfed4de",
   "metadata": {},
   "outputs": [
    {
     "name": "stdout",
     "output_type": "stream",
     "text": [
      "Mean - 26.938730853391686\n",
      "Median - 26.0\n",
      "Mode - 0    24.0\n",
      "dtype: float64\n",
      "Max - 40.0\n",
      "Min - 19.0\n",
      "Standard deviation - 4.4040164244058335\n"
     ]
    },
    {
     "data": {
      "image/png": "[encoded data removed]",
      "text/plain": [
       "<Figure size 432x288 with 1 Axes>"
      ]
     },
     "metadata": {
      "needs_background": "light"
     },
     "output_type": "display_data"
    }
   ],
   "source": [
    "#display mean, median, mode, max, min, standard deviation of Age col\n",
    "print(\"Mean - \" + str(df['Age'].mean()))\n",
    "print(\"Median - \" + str(df['Age'].median()))\n",
    "print(\"Mode - \" + str(df['Age'].mode()))\n",
    "print(\"Max - \" + str(df['Age'].max()))\n",
    "print(\"Min - \" + str(df['Age'].min()))\n",
    "print(\"Standard deviation - \" + str(df['Age'].std()))\n",
    "\n",
    "x=df['Age']\n",
    "plt.plot(x, alpha=0.3)\n",
    "plt.axhline(y = df['Age'].mean(), color = 'r', linestyle = '-', label=\"Mean\")\n",
    "plt.axhline(y = df['Age'].median(), color = 'g', linestyle = '--', label=\"Median\")\n",
    "plt.legend(bbox_to_anchor = (1.0, 1), loc = 'upper center')\n",
    "plt.xlabel('Sr no')\n",
    "plt.ylabel('Age')\n",
    "plt.show()"
   ]
  },
  {
   "cell_type": "code",
   "execution_count": 16,
   "id": "99a5869f",
   "metadata": {},
   "outputs": [
    {
     "name": "stdout",
     "output_type": "stream",
     "text": [
      "Mean - 221.52297592997812\n",
      "Median - 220.0\n",
      "Mode - 0    220.0\n",
      "dtype: float64\n",
      "Max - 307.0\n",
      "Min - 161.0\n",
      "Standard deviation - 26.36834262669547\n"
     ]
    },
    {
     "data": {
      "image/png": "[encoded data removed]",
      "text/plain": [
       "<Figure size 432x288 with 1 Axes>"
      ]
     },
     "metadata": {
      "needs_background": "light"
     },
     "output_type": "display_data"
    }
   ],
   "source": [
    "#display mean, median, mode, max, min, standard deviation of Weight col\n",
    "print(\"Mean - \" + str(df['Weight'].mean()))\n",
    "print(\"Median - \" + str(df['Weight'].median()))\n",
    "print(\"Mode - \" + str(df['Weight'].mode()))\n",
    "print(\"Max - \" + str(df['Weight'].max()))\n",
    "print(\"Min - \" + str(df['Weight'].min()))\n",
    "print(\"Standard deviation - \" + str(df['Weight'].std()))\n",
    "\n",
    "x=df['Weight']\n",
    "plt.plot(x, alpha=0.3)\n",
    "plt.axhline(y = df['Weight'].mean(), color = 'r', linestyle = '-', label=\"Mean\")\n",
    "plt.axhline(y = df['Weight'].median(), color = 'g', linestyle = '--', label=\"Median\")\n",
    "plt.legend(bbox_to_anchor = (1.0, 1), loc = 'upper center')\n",
    "plt.xlabel('Sr no')\n",
    "plt.ylabel('Weight')\n",
    "plt.show()"
   ]
  },
  {
   "cell_type": "code",
   "execution_count": 17,
   "id": "58359e99",
   "metadata": {},
   "outputs": [
    {
     "name": "stdout",
     "output_type": "stream",
     "text": [
      "Mean - 4842684.105381166\n",
      "Median - 2839073.0\n",
      "Mode - 0    947276.0\n",
      "dtype: float64\n",
      "Max - 25000000.0\n",
      "Min - 30888.0\n",
      "Standard deviation - 5229237.598910349\n"
     ]
    },
    {
     "data": {
      "image/png": "[encoded data removed]",
      "text/plain": [
       "<Figure size 432x288 with 1 Axes>"
      ]
     },
     "metadata": {
      "needs_background": "light"
     },
     "output_type": "display_data"
    }
   ],
   "source": [
    "#display mean, median, mode, max, min, standard deviation of Salary col\n",
    "print(\"Mean - \" + str(df['Salary'].mean()))\n",
    "print(\"Median - \" + str(df['Salary'].median()))\n",
    "print(\"Mode - \" + str(df['Salary'].mode()))\n",
    "print(\"Max - \" + str(df['Salary'].max()))\n",
    "print(\"Min - \" + str(df['Salary'].min()))\n",
    "print(\"Standard deviation - \" + str(df['Salary'].std()))\n",
    "\n",
    "x=df['Salary']\n",
    "plt.plot(x, alpha=0.3)\n",
    "plt.axhline(y = df['Salary'].mean(), color = 'r', linestyle = '-', label=\"Mean\")\n",
    "plt.axhline(y = df['Salary'].median(), color = 'g', linestyle = '--', label=\"Median\")\n",
    "plt.legend(bbox_to_anchor = (1.0, 1), loc = 'upper center')\n",
    "plt.xlabel('Sr no')\n",
    "plt.ylabel('Salary')\n",
    "plt.show()"
   ]
  },
  {
   "cell_type": "code",
   "execution_count": 18,
   "id": "53b46ea9",
   "metadata": {},
   "outputs": [
    {
     "data": {
      "text/plain": [
       "array([25., 27., 22., 29., 21., 24., 20., 26., 28., 32., 23., 30., 33.,\n",
       "       34., 37., 36., 31., 38., 39., 19., 35., 40., nan])"
      ]
     },
     "execution_count": 18,
     "metadata": {},
     "output_type": "execute_result"
    }
   ],
   "source": [
    "df['Age'].unique()"
   ]
  },
  {
   "cell_type": "code",
   "execution_count": 19,
   "id": "9e15701a",
   "metadata": {},
   "outputs": [
    {
     "data": {
      "text/plain": [
       "array([25.        , 27.        , 22.        , 29.        , 21.        ,\n",
       "       24.        , 20.        , 26.        , 28.        , 32.        ,\n",
       "       23.        , 30.        , 33.        , 34.        , 37.        ,\n",
       "       36.        , 31.        , 38.        , 39.        , 19.        ,\n",
       "       35.        , 40.        , 26.93873085])"
      ]
     },
     "execution_count": 19,
     "metadata": {},
     "output_type": "execute_result"
    }
   ],
   "source": [
    "df['Age'].fillna(value=df['Age'].mean(),inplace=True) # replacing null values with mean of the column\n",
    "df['Age'].unique()"
   ]
  },
  {
   "cell_type": "code",
   "execution_count": 21,
   "id": "d2e73224",
   "metadata": {},
   "outputs": [],
   "source": [
    "df['Salary'].fillna(value=df['Salary'].mean(),inplace=True) # replacing null values with mean of the column"
   ]
  },
  {
   "cell_type": "code",
   "execution_count": 22,
   "id": "1a18d749",
   "metadata": {},
   "outputs": [
    {
     "data": {
      "text/html": [
       "<div>\n",
       "<style scoped>\n",
       "    .dataframe tbody tr th:only-of-type {\n",
       "        vertical-align: middle;\n",
       "    }\n",
       "\n",
       "    .dataframe tbody tr th {\n",
       "        vertical-align: top;\n",
       "    }\n",
       "\n",
       "    .dataframe thead th {\n",
       "        text-align: right;\n",
       "    }\n",
       "</style>\n",
       "<table border=\"1\" class=\"dataframe\">\n",
       "  <thead>\n",
       "    <tr style=\"text-align: right;\">\n",
       "      <th></th>\n",
       "      <th>Age</th>\n",
       "      <th>Salary</th>\n",
       "    </tr>\n",
       "  </thead>\n",
       "  <tbody>\n",
       "    <tr>\n",
       "      <th>0</th>\n",
       "      <td>19.000000</td>\n",
       "      <td>1.930440e+06</td>\n",
       "    </tr>\n",
       "    <tr>\n",
       "      <th>1</th>\n",
       "      <td>20.000000</td>\n",
       "      <td>2.725791e+06</td>\n",
       "    </tr>\n",
       "    <tr>\n",
       "      <th>2</th>\n",
       "      <td>21.000000</td>\n",
       "      <td>2.067380e+06</td>\n",
       "    </tr>\n",
       "    <tr>\n",
       "      <th>3</th>\n",
       "      <td>22.000000</td>\n",
       "      <td>2.357963e+06</td>\n",
       "    </tr>\n",
       "    <tr>\n",
       "      <th>4</th>\n",
       "      <td>23.000000</td>\n",
       "      <td>2.171719e+06</td>\n",
       "    </tr>\n",
       "    <tr>\n",
       "      <th>5</th>\n",
       "      <td>24.000000</td>\n",
       "      <td>3.830295e+06</td>\n",
       "    </tr>\n",
       "    <tr>\n",
       "      <th>6</th>\n",
       "      <td>25.000000</td>\n",
       "      <td>3.951130e+06</td>\n",
       "    </tr>\n",
       "    <tr>\n",
       "      <th>7</th>\n",
       "      <td>26.000000</td>\n",
       "      <td>6.866566e+06</td>\n",
       "    </tr>\n",
       "    <tr>\n",
       "      <th>8</th>\n",
       "      <td>26.938731</td>\n",
       "      <td>4.842684e+06</td>\n",
       "    </tr>\n",
       "    <tr>\n",
       "      <th>9</th>\n",
       "      <td>27.000000</td>\n",
       "      <td>6.632008e+06</td>\n",
       "    </tr>\n",
       "    <tr>\n",
       "      <th>10</th>\n",
       "      <td>28.000000</td>\n",
       "      <td>5.101559e+06</td>\n",
       "    </tr>\n",
       "    <tr>\n",
       "      <th>11</th>\n",
       "      <td>29.000000</td>\n",
       "      <td>6.174838e+06</td>\n",
       "    </tr>\n",
       "    <tr>\n",
       "      <th>12</th>\n",
       "      <td>30.000000</td>\n",
       "      <td>6.990272e+06</td>\n",
       "    </tr>\n",
       "    <tr>\n",
       "      <th>13</th>\n",
       "      <td>31.000000</td>\n",
       "      <td>8.511397e+06</td>\n",
       "    </tr>\n",
       "    <tr>\n",
       "      <th>14</th>\n",
       "      <td>32.000000</td>\n",
       "      <td>7.716958e+06</td>\n",
       "    </tr>\n",
       "    <tr>\n",
       "      <th>15</th>\n",
       "      <td>33.000000</td>\n",
       "      <td>3.930739e+06</td>\n",
       "    </tr>\n",
       "    <tr>\n",
       "      <th>16</th>\n",
       "      <td>34.000000</td>\n",
       "      <td>7.606030e+06</td>\n",
       "    </tr>\n",
       "    <tr>\n",
       "      <th>17</th>\n",
       "      <td>35.000000</td>\n",
       "      <td>3.615178e+06</td>\n",
       "    </tr>\n",
       "    <tr>\n",
       "      <th>18</th>\n",
       "      <td>36.000000</td>\n",
       "      <td>2.238120e+06</td>\n",
       "    </tr>\n",
       "    <tr>\n",
       "      <th>19</th>\n",
       "      <td>37.000000</td>\n",
       "      <td>1.079400e+07</td>\n",
       "    </tr>\n",
       "    <tr>\n",
       "      <th>20</th>\n",
       "      <td>38.000000</td>\n",
       "      <td>1.840041e+06</td>\n",
       "    </tr>\n",
       "    <tr>\n",
       "      <th>21</th>\n",
       "      <td>39.000000</td>\n",
       "      <td>2.517872e+06</td>\n",
       "    </tr>\n",
       "    <tr>\n",
       "      <th>22</th>\n",
       "      <td>40.000000</td>\n",
       "      <td>4.666917e+06</td>\n",
       "    </tr>\n",
       "  </tbody>\n",
       "</table>\n",
       "</div>"
      ],
      "text/plain": [
       "          Age        Salary\n",
       "0   19.000000  1.930440e+06\n",
       "1   20.000000  2.725791e+06\n",
       "2   21.000000  2.067380e+06\n",
       "3   22.000000  2.357963e+06\n",
       "4   23.000000  2.171719e+06\n",
       "5   24.000000  3.830295e+06\n",
       "6   25.000000  3.951130e+06\n",
       "7   26.000000  6.866566e+06\n",
       "8   26.938731  4.842684e+06\n",
       "9   27.000000  6.632008e+06\n",
       "10  28.000000  5.101559e+06\n",
       "11  29.000000  6.174838e+06\n",
       "12  30.000000  6.990272e+06\n",
       "13  31.000000  8.511397e+06\n",
       "14  32.000000  7.716958e+06\n",
       "15  33.000000  3.930739e+06\n",
       "16  34.000000  7.606030e+06\n",
       "17  35.000000  3.615178e+06\n",
       "18  36.000000  2.238120e+06\n",
       "19  37.000000  1.079400e+07\n",
       "20  38.000000  1.840041e+06\n",
       "21  39.000000  2.517872e+06\n",
       "22  40.000000  4.666917e+06"
      ]
     },
     "execution_count": 22,
     "metadata": {},
     "output_type": "execute_result"
    }
   ],
   "source": [
    "# categorical variable - Age, quantitaive variable - Salary (Providing average salary by age group)\n",
    "df.groupby('Age', as_index=False)['Salary'].mean()"
   ]
  },
  {
   "cell_type": "code",
   "execution_count": 13,
   "id": "554d1f7c",
   "metadata": {},
   "outputs": [
    {
     "data": {
      "text/plain": [
       "<AxesSubplot:>"
      ]
     },
     "execution_count": 13,
     "metadata": {},
     "output_type": "execute_result"
    },
    {
     "data": {
      "image/png": "[encoded data removed]",
      "text/plain": [
       "<Figure size 432x288 with 1 Axes>"
      ]
     },
     "metadata": {
      "needs_background": "light"
     },
     "output_type": "display_data"
    }
   ],
   "source": [
    "df.groupby('Age')['Salary'].mean().hist()"
   ]
  },
  {
   "cell_type": "code",
   "execution_count": 23,
   "id": "58e1e092",
   "metadata": {
    "scrolled": true
   },
   "outputs": [
    {
     "data": {
      "text/html": [
       "<div>\n",
       "<style scoped>\n",
       "    .dataframe tbody tr th:only-of-type {\n",
       "        vertical-align: middle;\n",
       "    }\n",
       "\n",
       "    .dataframe tbody tr th {\n",
       "        vertical-align: top;\n",
       "    }\n",
       "\n",
       "    .dataframe thead th {\n",
       "        text-align: right;\n",
       "    }\n",
       "</style>\n",
       "<table border=\"1\" class=\"dataframe\">\n",
       "  <thead>\n",
       "    <tr style=\"text-align: right;\">\n",
       "      <th></th>\n",
       "      <th>Age</th>\n",
       "      <th>Weight</th>\n",
       "    </tr>\n",
       "  </thead>\n",
       "  <tbody>\n",
       "    <tr>\n",
       "      <th>0</th>\n",
       "      <td>19.000000</td>\n",
       "      <td>204.000000</td>\n",
       "    </tr>\n",
       "    <tr>\n",
       "      <th>1</th>\n",
       "      <td>20.000000</td>\n",
       "      <td>223.736842</td>\n",
       "    </tr>\n",
       "    <tr>\n",
       "      <th>2</th>\n",
       "      <td>21.000000</td>\n",
       "      <td>220.894737</td>\n",
       "    </tr>\n",
       "    <tr>\n",
       "      <th>3</th>\n",
       "      <td>22.000000</td>\n",
       "      <td>224.230769</td>\n",
       "    </tr>\n",
       "    <tr>\n",
       "      <th>4</th>\n",
       "      <td>23.000000</td>\n",
       "      <td>214.048780</td>\n",
       "    </tr>\n",
       "    <tr>\n",
       "      <th>5</th>\n",
       "      <td>24.000000</td>\n",
       "      <td>216.744681</td>\n",
       "    </tr>\n",
       "    <tr>\n",
       "      <th>6</th>\n",
       "      <td>25.000000</td>\n",
       "      <td>214.333333</td>\n",
       "    </tr>\n",
       "    <tr>\n",
       "      <th>7</th>\n",
       "      <td>26.000000</td>\n",
       "      <td>228.500000</td>\n",
       "    </tr>\n",
       "    <tr>\n",
       "      <th>8</th>\n",
       "      <td>26.938731</td>\n",
       "      <td>221.522976</td>\n",
       "    </tr>\n",
       "    <tr>\n",
       "      <th>9</th>\n",
       "      <td>27.000000</td>\n",
       "      <td>220.463415</td>\n",
       "    </tr>\n",
       "    <tr>\n",
       "      <th>10</th>\n",
       "      <td>28.000000</td>\n",
       "      <td>222.967742</td>\n",
       "    </tr>\n",
       "    <tr>\n",
       "      <th>11</th>\n",
       "      <td>29.000000</td>\n",
       "      <td>233.321429</td>\n",
       "    </tr>\n",
       "    <tr>\n",
       "      <th>12</th>\n",
       "      <td>30.000000</td>\n",
       "      <td>214.645161</td>\n",
       "    </tr>\n",
       "    <tr>\n",
       "      <th>13</th>\n",
       "      <td>31.000000</td>\n",
       "      <td>229.772727</td>\n",
       "    </tr>\n",
       "    <tr>\n",
       "      <th>14</th>\n",
       "      <td>32.000000</td>\n",
       "      <td>220.846154</td>\n",
       "    </tr>\n",
       "    <tr>\n",
       "      <th>15</th>\n",
       "      <td>33.000000</td>\n",
       "      <td>226.357143</td>\n",
       "    </tr>\n",
       "    <tr>\n",
       "      <th>16</th>\n",
       "      <td>34.000000</td>\n",
       "      <td>227.300000</td>\n",
       "    </tr>\n",
       "    <tr>\n",
       "      <th>17</th>\n",
       "      <td>35.000000</td>\n",
       "      <td>229.222222</td>\n",
       "    </tr>\n",
       "    <tr>\n",
       "      <th>18</th>\n",
       "      <td>36.000000</td>\n",
       "      <td>222.100000</td>\n",
       "    </tr>\n",
       "    <tr>\n",
       "      <th>19</th>\n",
       "      <td>37.000000</td>\n",
       "      <td>239.000000</td>\n",
       "    </tr>\n",
       "    <tr>\n",
       "      <th>20</th>\n",
       "      <td>38.000000</td>\n",
       "      <td>218.750000</td>\n",
       "    </tr>\n",
       "    <tr>\n",
       "      <th>21</th>\n",
       "      <td>39.000000</td>\n",
       "      <td>202.500000</td>\n",
       "    </tr>\n",
       "    <tr>\n",
       "      <th>22</th>\n",
       "      <td>40.000000</td>\n",
       "      <td>230.000000</td>\n",
       "    </tr>\n",
       "  </tbody>\n",
       "</table>\n",
       "</div>"
      ],
      "text/plain": [
       "          Age      Weight\n",
       "0   19.000000  204.000000\n",
       "1   20.000000  223.736842\n",
       "2   21.000000  220.894737\n",
       "3   22.000000  224.230769\n",
       "4   23.000000  214.048780\n",
       "5   24.000000  216.744681\n",
       "6   25.000000  214.333333\n",
       "7   26.000000  228.500000\n",
       "8   26.938731  221.522976\n",
       "9   27.000000  220.463415\n",
       "10  28.000000  222.967742\n",
       "11  29.000000  233.321429\n",
       "12  30.000000  214.645161\n",
       "13  31.000000  229.772727\n",
       "14  32.000000  220.846154\n",
       "15  33.000000  226.357143\n",
       "16  34.000000  227.300000\n",
       "17  35.000000  229.222222\n",
       "18  36.000000  222.100000\n",
       "19  37.000000  239.000000\n",
       "20  38.000000  218.750000\n",
       "21  39.000000  202.500000\n",
       "22  40.000000  230.000000"
      ]
     },
     "execution_count": 23,
     "metadata": {},
     "output_type": "execute_result"
    }
   ],
   "source": [
    "df['Weight'].fillna(value=df['Weight'].mean(),inplace=True) # replacing null values with mean of the column\n",
    "# categorical variable - Age, quantitaive variable - Weight (Providing average weight by age group)\n",
    "df.groupby('Age', as_index=False)['Weight'].mean()"
   ]
  },
  {
   "cell_type": "code",
   "execution_count": 11,
   "id": "b2837c87",
   "metadata": {
    "scrolled": true
   },
   "outputs": [
    {
     "data": {
      "text/plain": [
       "<AxesSubplot:>"
      ]
     },
     "execution_count": 11,
     "metadata": {},
     "output_type": "execute_result"
    },
    {
     "data": {
      "image/png": "[encoded data removed]",
      "text/plain": [
       "<Figure size 432x288 with 1 Axes>"
      ]
     },
     "metadata": {
      "needs_background": "light"
     },
     "output_type": "display_data"
    }
   ],
   "source": [
    "df.groupby('Age')['Weight'].mean().hist()"
   ]
  },
  {
   "cell_type": "code",
   "execution_count": 28,
   "id": "0f090c6f",
   "metadata": {},
   "outputs": [
    {
     "name": "stdout",
     "output_type": "stream",
     "text": [
      "Mean - 26.938730853391686\n",
      "Mode - 24.0\n"
     ]
    }
   ],
   "source": [
    "df['Age'].fillna(value=df['Age'].mean(),inplace=True) # replacing null values with mean of the column\n",
    "# calculating mean, median, mode using OOP concept\n",
    "age = df['Age']\n",
    "arr = list()\n",
    "mean, median, mode, total = 0,0,0,0\n",
    "mode_dict = dict()\n",
    "\n",
    "for i in range(0,df.shape[0]):\n",
    "    arr.append(float(df['Age'][i]))\n",
    "    total+=df['Age'][i]\n",
    "    if (df['Age'][i]) in mode_dict :\n",
    "        mode_dict[df['Age'][i]] +=1\n",
    "    else:\n",
    "        mode_dict[df['Age'][i]] =1\n",
    "        \n",
    "mean = total/df.shape[0]\n",
    "v = list(mode_dict.values())\n",
    "k = list(mode_dict.keys())\n",
    "mode = k[v.index(max(v))]\n",
    "\n",
    "print(\"Mean - \" + str(mean))\n",
    "#print(\"Median - \" + str(median))\n",
    "print(\"Mode - \" + str(mode))"
   ]
  },
  {
   "cell_type": "code",
   "execution_count": 1,
   "id": "4883180e",
   "metadata": {},
   "outputs": [],
   "source": [
    "#Part 2 - IRIS DATASET\n",
    "import numpy as np\n",
    "import pandas as pd\n",
    "import matplotlib.pyplot as plt"
   ]
  },
  {
   "cell_type": "code",
   "execution_count": 2,
   "id": "75b08b60",
   "metadata": {},
   "outputs": [
    {
     "data": {
      "text/html": [
       "<div>\n",
       "<style scoped>\n",
       "    .dataframe tbody tr th:only-of-type {\n",
       "        vertical-align: middle;\n",
       "    }\n",
       "\n",
       "    .dataframe tbody tr th {\n",
       "        vertical-align: top;\n",
       "    }\n",
       "\n",
       "    .dataframe thead th {\n",
       "        text-align: right;\n",
       "    }\n",
       "</style>\n",
       "<table border=\"1\" class=\"dataframe\">\n",
       "  <thead>\n",
       "    <tr style=\"text-align: right;\">\n",
       "      <th></th>\n",
       "      <th>Id</th>\n",
       "      <th>SepalLengthCm</th>\n",
       "      <th>SepalWidthCm</th>\n",
       "      <th>PetalLengthCm</th>\n",
       "      <th>PetalWidthCm</th>\n",
       "      <th>Species</th>\n",
       "    </tr>\n",
       "  </thead>\n",
       "  <tbody>\n",
       "    <tr>\n",
       "      <th>0</th>\n",
       "      <td>1</td>\n",
       "      <td>5.1</td>\n",
       "      <td>3.5</td>\n",
       "      <td>1.4</td>\n",
       "      <td>0.2</td>\n",
       "      <td>Iris-setosa</td>\n",
       "    </tr>\n",
       "    <tr>\n",
       "      <th>1</th>\n",
       "      <td>2</td>\n",
       "      <td>4.9</td>\n",
       "      <td>3.0</td>\n",
       "      <td>1.4</td>\n",
       "      <td>0.2</td>\n",
       "      <td>Iris-setosa</td>\n",
       "    </tr>\n",
       "    <tr>\n",
       "      <th>2</th>\n",
       "      <td>3</td>\n",
       "      <td>4.7</td>\n",
       "      <td>3.2</td>\n",
       "      <td>1.3</td>\n",
       "      <td>0.2</td>\n",
       "      <td>Iris-setosa</td>\n",
       "    </tr>\n",
       "    <tr>\n",
       "      <th>3</th>\n",
       "      <td>4</td>\n",
       "      <td>4.6</td>\n",
       "      <td>3.1</td>\n",
       "      <td>1.5</td>\n",
       "      <td>0.2</td>\n",
       "      <td>Iris-setosa</td>\n",
       "    </tr>\n",
       "    <tr>\n",
       "      <th>4</th>\n",
       "      <td>5</td>\n",
       "      <td>5.0</td>\n",
       "      <td>3.6</td>\n",
       "      <td>1.4</td>\n",
       "      <td>0.2</td>\n",
       "      <td>Iris-setosa</td>\n",
       "    </tr>\n",
       "  </tbody>\n",
       "</table>\n",
       "</div>"
      ],
      "text/plain": [
       "   Id  SepalLengthCm  SepalWidthCm  PetalLengthCm  PetalWidthCm      Species\n",
       "0   1            5.1           3.5            1.4           0.2  Iris-setosa\n",
       "1   2            4.9           3.0            1.4           0.2  Iris-setosa\n",
       "2   3            4.7           3.2            1.3           0.2  Iris-setosa\n",
       "3   4            4.6           3.1            1.5           0.2  Iris-setosa\n",
       "4   5            5.0           3.6            1.4           0.2  Iris-setosa"
      ]
     },
     "execution_count": 2,
     "metadata": {},
     "output_type": "execute_result"
    }
   ],
   "source": [
    "df = pd.read_csv(\"Iris.csv\")\n",
    "df.head()"
   ]
  },
  {
   "cell_type": "code",
   "execution_count": 3,
   "id": "4bf12ad9",
   "metadata": {},
   "outputs": [
    {
     "data": {
      "text/plain": [
       "Iris-setosa        50\n",
       "Iris-versicolor    50\n",
       "Iris-virginica     50\n",
       "Name: Species, dtype: int64"
      ]
     },
     "execution_count": 3,
     "metadata": {},
     "output_type": "execute_result"
    }
   ],
   "source": [
    "df.Species.value_counts()"
   ]
  },
  {
   "cell_type": "code",
   "execution_count": 4,
   "id": "db51e7f4",
   "metadata": {},
   "outputs": [
    {
     "data": {
      "text/plain": [
       "Id               0\n",
       "SepalLengthCm    0\n",
       "SepalWidthCm     0\n",
       "PetalLengthCm    0\n",
       "PetalWidthCm     0\n",
       "Species          0\n",
       "dtype: int64"
      ]
     },
     "execution_count": 4,
     "metadata": {},
     "output_type": "execute_result"
    }
   ],
   "source": [
    "df.isnull().sum()"
   ]
  },
  {
   "cell_type": "code",
   "execution_count": 5,
   "id": "6f33a65c",
   "metadata": {},
   "outputs": [
    {
     "data": {
      "text/plain": [
       "Id                 int64\n",
       "SepalLengthCm    float64\n",
       "SepalWidthCm     float64\n",
       "PetalLengthCm    float64\n",
       "PetalWidthCm     float64\n",
       "Species           object\n",
       "dtype: object"
      ]
     },
     "execution_count": 5,
     "metadata": {},
     "output_type": "execute_result"
    }
   ],
   "source": [
    "df.dtypes"
   ]
  },
  {
   "cell_type": "code",
   "execution_count": 6,
   "id": "a7a4a332",
   "metadata": {},
   "outputs": [
    {
     "name": "stdout",
     "output_type": "stream",
     "text": [
      "               count     mean        std    min      25%     50%      75%  \\\n",
      "Id              50.0  125.500  14.577380  101.0  113.250  125.50  137.750   \n",
      "SepalLengthCm   50.0    6.588   0.635880    4.9    6.225    6.50    6.900   \n",
      "SepalWidthCm    50.0    2.974   0.322497    2.2    2.800    3.00    3.175   \n",
      "PetalLengthCm   50.0    5.552   0.551895    4.5    5.100    5.55    5.875   \n",
      "PetalWidthCm    50.0    2.026   0.274650    1.4    1.800    2.00    2.300   \n",
      "\n",
      "                 max  \n",
      "Id             150.0  \n",
      "SepalLengthCm    7.9  \n",
      "SepalWidthCm     3.8  \n",
      "PetalLengthCm    6.9  \n",
      "PetalWidthCm     2.5  \n"
     ]
    }
   ],
   "source": [
    "# checking the statistics for each species in the iris dataset\n",
    "\n",
    "# Iris-virginica\n",
    "print(df[df.Species==\"Iris-virginica\"].describe().transpose())"
   ]
  },
  {
   "cell_type": "code",
   "execution_count": 7,
   "id": "088bb554",
   "metadata": {},
   "outputs": [
    {
     "name": "stdout",
     "output_type": "stream",
     "text": [
      "               count    mean        std  min     25%   50%     75%   max\n",
      "Id              50.0  25.500  14.577380  1.0  13.250  25.5  37.750  50.0\n",
      "SepalLengthCm   50.0   5.006   0.352490  4.3   4.800   5.0   5.200   5.8\n",
      "SepalWidthCm    50.0   3.418   0.381024  2.3   3.125   3.4   3.675   4.4\n",
      "PetalLengthCm   50.0   1.464   0.173511  1.0   1.400   1.5   1.575   1.9\n",
      "PetalWidthCm    50.0   0.244   0.107210  0.1   0.200   0.2   0.300   0.6\n"
     ]
    }
   ],
   "source": [
    "# Iris-setosa\n",
    "print(df[df.Species==\"Iris-setosa\"].describe().transpose())"
   ]
  },
  {
   "cell_type": "code",
   "execution_count": 8,
   "id": "cefc163c",
   "metadata": {},
   "outputs": [
    {
     "name": "stdout",
     "output_type": "stream",
     "text": [
      "               count    mean        std   min     25%    50%    75%    max\n",
      "Id              50.0  75.500  14.577380  51.0  63.250  75.50  87.75  100.0\n",
      "SepalLengthCm   50.0   5.936   0.516171   4.9   5.600   5.90   6.30    7.0\n",
      "SepalWidthCm    50.0   2.770   0.313798   2.0   2.525   2.80   3.00    3.4\n",
      "PetalLengthCm   50.0   4.260   0.469911   3.0   4.000   4.35   4.60    5.1\n",
      "PetalWidthCm    50.0   1.326   0.197753   1.0   1.200   1.30   1.50    1.8\n"
     ]
    }
   ],
   "source": [
    "# Iris-versicolor\n",
    "print(df[df.Species==\"Iris-versicolor\"].describe().transpose())"
   ]
  },
  {
   "cell_type": "code",
   "execution_count": 3,
   "id": "effae176",
   "metadata": {},
   "outputs": [
    {
     "name": "stdout",
     "output_type": "stream",
     "text": [
      "Mean - 5.936\n",
      "Median - 5.9\n",
      "Mode - 5.5\n",
      "Standard deviation - 0.5161711470638635\n"
     ]
    }
   ],
   "source": [
    "# calc mean, median, mode of SepalLengthCol\n",
    "sumSepalLength = 0\n",
    "l = df['SepalLengthCm'].tolist()\n",
    "listSepalLength = []\n",
    "dictSepalLength = dict()\n",
    "for i in range(50,100):\n",
    "    sumSepalLength+=df['SepalLengthCm'][i]\n",
    "    listSepalLength.append(l[i])\n",
    "        \n",
    "    if (df['SepalLengthCm'][i]) in dictSepalLength :\n",
    "        dictSepalLength[df['SepalLengthCm'][i]] +=1\n",
    "    else:\n",
    "        dictSepalLength[df['SepalLengthCm'][i]] =1\n",
    "    \n",
    "listSepalLength.sort()\n",
    "length = len(listSepalLength)\n",
    "if (length%2==0):\n",
    "    #even \n",
    "    a = listSepalLength[(length//2)-1] #n/2 th element   (-1) bcuz of indexing in list\n",
    "    b = listSepalLength[(length//2)] #n/2 + 1 th element\n",
    "    median = (a+b)/2\n",
    "else:\n",
    "    #odd\n",
    "    median = listSepalLength[((length+1)//2)-1]  #(n+1)/2 th element\n",
    "    \n",
    "print(\"Mean - \"+ str(sumSepalLength/50))\n",
    "print(\"Median - \"+str(median))\n",
    "v = list(dictSepalLength.values())\n",
    "k = list(dictSepalLength.keys())\n",
    "mode = k[v.index(max(v))]\n",
    "print(\"Mode - \"+str(mode))\n",
    "\n",
    "# standard deviation\n",
    "mean = sumSepalLength/50\n",
    "sumOfAllDeviations = 0\n",
    "for i in range(50,100):\n",
    "    temp = df['SepalLengthCm'][i] - mean   # xi - mean\n",
    "    sumOfAllDeviations+=temp**2\n",
    "    \n",
    "variance = sumOfAllDeviations/49  # sumOfAllDeviations/n-1\n",
    "standardDeviation = variance**0.5\n",
    "print(\"Standard deviation - \"+ str(standardDeviation))"
   ]
  },
  {
   "cell_type": "code",
   "execution_count": 4,
   "id": "9a09989a",
   "metadata": {},
   "outputs": [
    {
     "name": "stdout",
     "output_type": "stream",
     "text": [
      "Mean - 2.7700000000000005\n",
      "Median - 2.8\n",
      "Mode - 3.0\n",
      "Standard deviation - 0.3137983233784114\n"
     ]
    }
   ],
   "source": [
    "# calc mean, median, mode of SepalWidthCol\n",
    "sumSepalWidth = 0\n",
    "l = df['SepalWidthCm'].tolist()\n",
    "listSepalWidth = []\n",
    "dictSepalWidth = dict()\n",
    "for i in range(50,100):\n",
    "    sumSepalWidth+=df['SepalWidthCm'][i]\n",
    "    listSepalWidth.append(l[i])\n",
    "        \n",
    "    if (df['SepalWidthCm'][i]) in dictSepalWidth :\n",
    "        dictSepalWidth[df['SepalWidthCm'][i]] +=1\n",
    "    else:\n",
    "        dictSepalWidth[df['SepalWidthCm'][i]] =1\n",
    "    \n",
    "listSepalWidth.sort()\n",
    "length1 = len(listSepalWidth)\n",
    "if (length1%2==0):\n",
    "    #even \n",
    "    a = listSepalWidth[(length1//2)-1] #n/2 th element   (-1) bcuz of indexing in list\n",
    "    b = listSepalWidth[(length1//2)] #n/2 + 1 th element\n",
    "    median1 = (a+b)/2\n",
    "else:\n",
    "    #odd\n",
    "    median1 = listSepalWidth[((length1+1)//2)-1]  #(n+1)/2 th element\n",
    "    \n",
    "print(\"Mean - \"+ str(sumSepalWidth/50))\n",
    "print(\"Median - \"+str(median1))\n",
    "v1 = list(dictSepalWidth.values())\n",
    "k1 = list(dictSepalWidth.keys())\n",
    "mode1 = k1[v1.index(max(v1))]\n",
    "print(\"Mode - \"+str(mode1))\n",
    "\n",
    "# standard deviation\n",
    "mean1 = sumSepalWidth/50\n",
    "sumOfAllDeviations1 = 0\n",
    "for i in range(50,100):\n",
    "    temp1 = df['SepalWidthCm'][i] - mean1   # xi - mean\n",
    "    sumOfAllDeviations1+=temp1**2\n",
    "    \n",
    "variance1 = sumOfAllDeviations1/49  # sumOfAllDeviations/n-1\n",
    "standardDeviation1 = variance1**0.5\n",
    "print(\"Standard deviation - \"+ str(standardDeviation1))"
   ]
  },
  {
   "cell_type": "code",
   "execution_count": null,
   "id": "d29a4a4d",
   "metadata": {},
   "outputs": [],
   "source": []
  }
 ],
 "metadata": {
  "kernelspec": {
   "display_name": "Python 3 (ipykernel)",
   "language": "python",
   "name": "python3"
  },
  "language_info": {
   "codemirror_mode": {
    "name": "ipython",
    "version": 3
   },
   "file_extension": ".py",
   "mimetype": "text/x-python",
   "name": "python",
   "nbconvert_exporter": "python",
   "pygments_lexer": "ipython3",
   "version": "3.9.7"
  }
 },
 "nbformat": 4,
 "nbformat_minor": 5
}
